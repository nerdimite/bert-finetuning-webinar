{
  "nbformat": 4,
  "nbformat_minor": 2,
  "metadata": {
    "colab": {
      "name": "BERT-Finetuning.ipynb",
      "provenance": [],
      "collapsed_sections": [],
      "toc_visible": true,
      "authorship_tag": "ABX9TyMPc4aN84jQphk68PJ2wq8J",
      "include_colab_link": true
    },
    "kernelspec": {
      "name": "python3",
      "display_name": "Python 3"
    },
    "accelerator": "GPU"
  },
  "cells": [
    {
      "cell_type": "markdown",
      "source": [
        "<a href=\"https://colab.research.google.com/github/theneuralbeing/bert-finetuning-webinar/blob/master/BERT_Finetuning.ipynb\" target=\"_parent\"><img src=\"https://colab.research.google.com/assets/colab-badge.svg\" alt=\"Open In Colab\"/></a>"
      ],
      "metadata": {
        "id": "view-in-github",
        "colab_type": "text"
      }
    },
    {
      "cell_type": "markdown",
      "source": [
        "# BERT Finetuning with Transformers"
      ],
      "metadata": {
        "id": "0bTU_UPlfRor",
        "colab_type": "text"
      }
    },
    {
      "cell_type": "markdown",
      "source": [
        "## Understanding the Basics"
      ],
      "metadata": {
        "id": "YiEyOBHLfk5d",
        "colab_type": "text"
      }
    },
    {
      "cell_type": "code",
      "execution_count": null,
      "source": [
        "!pip install transformers"
      ],
      "outputs": [],
      "metadata": {
        "id": "hZcTLiMrXC_Q",
        "colab_type": "code",
        "colab": {}
      }
    },
    {
      "cell_type": "code",
      "execution_count": 2,
      "source": [
        "import torch\r\n",
        "import numpy as np\r\n",
        "import pandas as pd\r\n",
        "from transformers import BertModel, BertTokenizer, BertForSequenceClassification"
      ],
      "outputs": [
        {
          "output_type": "display_data",
          "data": {
            "text/plain": [
              "<IPython.core.display.HTML object>"
            ],
            "text/html": [
              "<p style=\"color: red;\">\n",
              "The default version of TensorFlow in Colab will soon switch to TensorFlow 2.x.<br>\n",
              "We recommend you <a href=\"https://www.tensorflow.org/guide/migrate\" target=\"_blank\">upgrade</a> now \n",
              "or ensure your notebook will continue to use TensorFlow 1.x via the <code>%tensorflow_version 1.x</code> magic:\n",
              "<a href=\"https://colab.research.google.com/notebooks/tensorflow_version.ipynb\" target=\"_blank\">more info</a>.</p>\n"
            ]
          },
          "metadata": {
            "tags": []
          }
        }
      ],
      "metadata": {
        "id": "ozgNVDWgYinS",
        "colab_type": "code",
        "outputId": "9f3f57e8-4e0e-4315-8369-f266e5ddd969",
        "colab": {
          "base_uri": "https://localhost:8080/",
          "height": 62
        }
      }
    },
    {
      "cell_type": "code",
      "execution_count": null,
      "source": [
        "bert_model = BertModel.from_pretrained('bert-base-uncased')\r\n",
        "tokenizer = BertTokenizer.from_pretrained('bert-base-uncased')"
      ],
      "outputs": [],
      "metadata": {
        "id": "a_b_zYKHZAMs",
        "colab_type": "code",
        "colab": {}
      }
    },
    {
      "cell_type": "code",
      "execution_count": null,
      "source": [
        "# sentence = 'hehidden likes to play'\r\n",
        "# # Step 1: Tokenize\r\n",
        "# tokens = tokenizer.tokenize(sentence)\r\n",
        "# # Step 2: Add [CLS] and [SEP]\r\n",
        "# tokens = ['[CLS]'] + tokens + ['[SEP]']\r\n",
        "# # Step 3: Pad tokens\r\n",
        "# padded_tokens = tokens + ['[PAD]' for _ in range(20 - len(tokens))]\r\n",
        "# attn_mask = [1 if token != '[PAD]' else 0 for token in padded_tokens]\r\n",
        "# # Step 4: Segment ids\r\n",
        "# seg_ids = [0 for _ in range(len(padded_tokens))] #Optional!\r\n",
        "# # Step 5: Get BERT vocabulary index for each token\r\n",
        "# token_ids = tokenizer.convert_tokens_to_ids(padded_tokens)"
      ],
      "outputs": [],
      "metadata": {
        "id": "s2_BQ3A2gHJO",
        "colab_type": "code",
        "colab": {}
      }
    },
    {
      "cell_type": "code",
      "execution_count": null,
      "source": [
        "# # Convert to pytorch tensors\r\n",
        "# token_ids = torch.tensor(token_ids).unsqueeze(0)\r\n",
        "# attn_mask = torch.tensor(attn_mask).unsqueeze(0)\r\n",
        "# seg_ids = torch.tensor(seg_ids).unsqueeze(0)\r\n",
        "\r\n",
        "# # Feed them to bert\r\n",
        "# hidden_reps, cls_head = bert_model(token_ids, attention_mask = attn_mask,\\\r\n",
        "#                                   token_type_ids = seg_ids)\r\n",
        "# print(hidden_reps.shape)\r\n",
        "# print(cls_head.shape)"
      ],
      "outputs": [],
      "metadata": {
        "id": "TwwjM45ygHs1",
        "colab_type": "code",
        "colab": {}
      }
    },
    {
      "cell_type": "markdown",
      "source": [
        "## Dataset Class and Data Loaders"
      ],
      "metadata": {
        "id": "k4uMPQ_Km9_E",
        "colab_type": "text"
      }
    },
    {
      "cell_type": "code",
      "execution_count": 6,
      "source": [
        "!pip install wget"
      ],
      "outputs": [
        {
          "output_type": "stream",
          "name": "stdout",
          "text": [
            "Collecting wget\n",
            "  Downloading https://files.pythonhosted.org/packages/47/6a/62e288da7bcda82b935ff0c6cfe542970f04e29c756b0e147251b2fb251f/wget-3.2.zip\n",
            "Building wheels for collected packages: wget\n",
            "  Building wheel for wget (setup.py) ... \u001b[?25l\u001b[?25hdone\n",
            "  Created wheel for wget: filename=wget-3.2-cp36-none-any.whl size=9681 sha256=e255081eddd05439f4deea40c5e53186cfac02d0001f3061b53c6c81f186398c\n",
            "  Stored in directory: /root/.cache/pip/wheels/40/15/30/7d8f7cea2902b4db79e3fea550d7d7b85ecb27ef992b618f3f\n",
            "Successfully built wget\n",
            "Installing collected packages: wget\n",
            "Successfully installed wget-3.2\n"
          ]
        }
      ],
      "metadata": {
        "id": "LDF8EGbJSAmT",
        "colab_type": "code",
        "outputId": "0887a543-a37c-4198-bcef-5c4c31b3f1d4",
        "colab": {
          "base_uri": "https://localhost:8080/",
          "height": 188
        }
      }
    },
    {
      "cell_type": "code",
      "execution_count": 7,
      "source": [
        "import wget\r\n",
        "import os\r\n",
        "\r\n",
        "print('Downloading dataset...')\r\n",
        "\r\n",
        "# The URL for the dataset zip file.\r\n",
        "url = 'https://raw.githubusercontent.com/theneuralbeing/bert-finetuning-webinar/master/data.zip'\r\n",
        "\r\n",
        "# Download the file and unzip it (if we haven't already)\r\n",
        "if not os.path.exists('./data.zip'):\r\n",
        "    wget.download(url, './data.zip')\r\n",
        "    !unzip -q data.zip\r\n",
        "    print('Unzipped Dataset')"
      ],
      "outputs": [
        {
          "output_type": "stream",
          "name": "stdout",
          "text": [
            "Downloading dataset...\n",
            "Unzipped Dataset\n"
          ]
        }
      ],
      "metadata": {
        "id": "0GtmTUYSSCHU",
        "colab_type": "code",
        "outputId": "02cad50c-49cb-483e-d43f-0fd3e2b68661",
        "colab": {
          "base_uri": "https://localhost:8080/",
          "height": 50
        }
      }
    },
    {
      "cell_type": "code",
      "execution_count": null,
      "source": [
        "from torch.utils.data import Dataset, DataLoader"
      ],
      "outputs": [],
      "metadata": {
        "id": "FwmzHMnzn6ax",
        "colab_type": "code",
        "colab": {}
      }
    },
    {
      "cell_type": "code",
      "execution_count": null,
      "source": [
        "class LoadDataset(Dataset):\r\n",
        "\r\n",
        "    def __init__(self, filename, maxlen):\r\n",
        "\r\n",
        "        # Store the contents of the file in a pandas dataframe\r\n",
        "        self.df = pd.read_csv(filename, delimiter=',')\r\n",
        "\r\n",
        "        # Initialize the BERT tokenizer\r\n",
        "        self.tokenizer = BertTokenizer.from_pretrained('bert-base-uncased')\r\n",
        "\r\n",
        "        # Define the Maxlength for padding/truncating\r\n",
        "        self.maxlen = maxlen\r\n",
        "\r\n",
        "    def __len__(self):\r\n",
        "        return len(self.df)\r\n",
        "\r\n",
        "    def __getitem__(self, index):\r\n",
        "\r\n",
        "        # Selecting the sentence and label at the specified index in the data frame\r\n",
        "        sentence = self.df.loc[index, 'review']\r\n",
        "        label = self.df.loc[index, 'sentiment']\r\n",
        "\r\n",
        "        # Tokenize the sentence\r\n",
        "        tokens = self.tokenizer.tokenize(sentence)\r\n",
        "\r\n",
        "        # Inserting the CLS and SEP token at the beginning and end of the sentence\r\n",
        "        tokens = ['[CLS]'] + tokens + ['[SEP]']\r\n",
        "        \r\n",
        "        # Padding/truncating the sentences to the maximum length\r\n",
        "        if len(tokens) < self.maxlen:\r\n",
        "            tokens = tokens + ['[PAD]' for _ in range(self.maxlen - len(tokens))]\r\n",
        "        else:\r\n",
        "            tokens = tokens[:self.maxlen-1] + ['[SEP]']\r\n",
        "        \r\n",
        "        # Convert the sequence to ids with BERT Vocabulary\r\n",
        "        tokens_ids = self.tokenizer.convert_tokens_to_ids(tokens)\r\n",
        "        \r\n",
        "        # Converting the list to a pytorch tensor\r\n",
        "        tokens_ids_tensor = torch.tensor(tokens_ids)\r\n",
        "\r\n",
        "        # Obtaining the attention mask\r\n",
        "        attn_mask = (tokens_ids_tensor != 0).long()\r\n",
        "\r\n",
        "        return tokens_ids_tensor, attn_mask, label"
      ],
      "outputs": [],
      "metadata": {
        "id": "bsxKO4u-iTOL",
        "colab_type": "code",
        "colab": {}
      }
    },
    {
      "cell_type": "code",
      "execution_count": null,
      "source": [
        "# Creating instances of training and validation set\r\n",
        "train_set = LoadDataset(filename = 'data/train.csv', maxlen = 64)\r\n",
        "val_set = LoadDataset(filename = 'data/validation.csv', maxlen = 64)"
      ],
      "outputs": [],
      "metadata": {
        "id": "tqe1Tn_gU-mf",
        "colab_type": "code",
        "colab": {}
      }
    },
    {
      "cell_type": "code",
      "execution_count": null,
      "source": [
        "# Creating intsances of training and validation dataloaders\r\n",
        "train_loader = DataLoader(train_set, batch_size = 32, num_workers = 5)\r\n",
        "val_loader = DataLoader(val_set, batch_size = 32, num_workers = 5)"
      ],
      "outputs": [],
      "metadata": {
        "id": "EQBez4GyVISF",
        "colab_type": "code",
        "colab": {}
      }
    },
    {
      "cell_type": "markdown",
      "source": [
        "## Building the Model"
      ],
      "metadata": {
        "id": "Sy59x1OzMnne",
        "colab_type": "text"
      }
    },
    {
      "cell_type": "code",
      "execution_count": null,
      "source": [
        "from torch import nn"
      ],
      "outputs": [],
      "metadata": {
        "id": "3q5zrt4MonMT",
        "colab_type": "code",
        "colab": {}
      }
    },
    {
      "cell_type": "code",
      "execution_count": null,
      "source": [
        "class SentimentClassifier(nn.Module):\r\n",
        "\r\n",
        "    def __init__(self, freeze_bert = True):\r\n",
        "        super(SentimentClassifier, self).__init__()\r\n",
        "\r\n",
        "        # Instantiating the BERT model object \r\n",
        "        self.bert_layer = BertModel.from_pretrained('bert-base-uncased')\r\n",
        "        \r\n",
        "        # Defining layers like dropout and linear\r\n",
        "        self.dropout = nn.Dropout(0.1)\r\n",
        "        self.classifier = nn.Linear(768, 1)\r\n",
        "\r\n",
        "    def forward(self, seq, attn_masks):\r\n",
        "        '''\r\n",
        "        Inputs:\r\n",
        "            -seq : Tensor of shape [B, T] containing token ids of sequences\r\n",
        "            -attn_masks : Tensor of shape [B, T] containing attention masks to be used to avoid contibution of PAD tokens\r\n",
        "        '''\r\n",
        "\r\n",
        "        # Getting contextualized representations from BERT Layer\r\n",
        "        hidden_states = self.bert_layer(seq, attention_mask = attn_masks).last_hidden_state\r\n",
        "\r\n",
        "        # Obtaining the representation of [CLS] head\r\n",
        "        cls_rep = hidden_states[:, 0]\r\n",
        "        # print('CLS shape: ',cls_rep.shape)\r\n",
        "\r\n",
        "        # Feeding cls_rep to the classifier layer\r\n",
        "        logits = self.classifier(cls_rep)\r\n",
        "        # print('Logits shape: ',logits.shape)\r\n",
        "\r\n",
        "        return logits"
      ],
      "outputs": [],
      "metadata": {
        "id": "LyKJ_lHWTi_j",
        "colab_type": "code",
        "colab": {}
      }
    },
    {
      "cell_type": "code",
      "execution_count": null,
      "source": [
        "model = SentimentClassifier()"
      ],
      "outputs": [],
      "metadata": {
        "id": "vifcpKtlU8y1",
        "colab_type": "code",
        "colab": {}
      }
    },
    {
      "cell_type": "markdown",
      "source": [
        "## Training"
      ],
      "metadata": {
        "id": "AEFyqz_MMvjJ",
        "colab_type": "text"
      }
    },
    {
      "cell_type": "code",
      "execution_count": null,
      "source": [
        "from torch.optim import Adam\r\n",
        "from torch.nn import BCEWithLogitsLoss\r\n",
        "\r\n",
        "criterion = BCEWithLogitsLoss()\r\n",
        "optimizer = Adam(model.parameters(), lr = 2e-5)"
      ],
      "outputs": [],
      "metadata": {
        "id": "TOZ_RBDOU68m",
        "colab_type": "code",
        "colab": {}
      }
    },
    {
      "cell_type": "code",
      "execution_count": 16,
      "source": [
        "if torch.cuda.is_available():\r\n",
        "  device = 'cuda'\r\n",
        "else:\r\n",
        "  device = 'cpu'\r\n",
        "\r\n",
        "print(device)"
      ],
      "outputs": [
        {
          "output_type": "stream",
          "name": "stdout",
          "text": [
            "cuda\n"
          ]
        }
      ],
      "metadata": {
        "id": "SrFxN3mLwLMp",
        "colab_type": "code",
        "outputId": "a7b4c88b-8dd6-4f9a-ed08-afefc4d97560",
        "colab": {
          "base_uri": "https://localhost:8080/",
          "height": 34
        }
      }
    },
    {
      "cell_type": "code",
      "execution_count": null,
      "source": [
        "# Defining a function for calculating accuracy\r\n",
        "def logits_accuracy(logits, labels):\r\n",
        "    probs = torch.sigmoid(logits.unsqueeze(-1))\r\n",
        "    preds = (probs > 0.5).long()\r\n",
        "    acc = (preds.squeeze() == labels).float().mean()\r\n",
        "    return acc"
      ],
      "outputs": [],
      "metadata": {
        "id": "gubu6At42C_P",
        "colab_type": "code",
        "colab": {}
      }
    },
    {
      "cell_type": "code",
      "execution_count": null,
      "source": [
        "# Defining an evaluation function for training \r\n",
        "def evaluate(net, criterion, val_loader, device):\r\n",
        "  \r\n",
        "    losses, accuracies = 0, 0\r\n",
        "    \r\n",
        "    # Setting model to evaluation mode\r\n",
        "    net.eval()\r\n",
        "\r\n",
        "    count = 0\r\n",
        "    for (seq, attn_masks, labels) in val_loader:\r\n",
        "        count += 1\r\n",
        "\r\n",
        "        # Move inputs and targets to device\r\n",
        "        seq, attn_masks, labels = seq.to(device), attn_masks.to(device), labels.to(device)\r\n",
        "\r\n",
        "        # Get logit predictions\r\n",
        "        val_logits = net(seq, attn_masks)\r\n",
        "\r\n",
        "        # Calculate loss\r\n",
        "        val_loss = criterion(val_logits.squeeze(-1), labels.float())\r\n",
        "        losses += val_loss.item()\r\n",
        "\r\n",
        "        # Calculate validation accuracy\r\n",
        "        accuracies += logits_accuracy(val_logits, labels)\r\n",
        "\r\n",
        "    return losses / count, accuracies / count"
      ],
      "outputs": [],
      "metadata": {
        "id": "wPYi4_6_2C2w",
        "colab_type": "code",
        "colab": {}
      }
    },
    {
      "cell_type": "code",
      "execution_count": null,
      "source": [
        "from time import time"
      ],
      "outputs": [],
      "metadata": {
        "id": "5OvRi_i4BYqK",
        "colab_type": "code",
        "colab": {}
      }
    },
    {
      "cell_type": "code",
      "execution_count": null,
      "source": [
        "def train(net, criterion, optimizer, train_loader, val_loader, device, epochs=4, print_every=100):\r\n",
        "    \r\n",
        "    # Move model to device\r\n",
        "    net.to(device)\r\n",
        "    # Setting model to training mode\r\n",
        "    net.train()\r\n",
        "\r\n",
        "    print('========== ========== STARTING TRAINING ========== ==========')\r\n",
        "\r\n",
        "    for epoch in range(epochs):\r\n",
        "\r\n",
        "        print('\\n\\n========== EPOCH {} =========='.format(epoch))        \r\n",
        "        t1 = time()\r\n",
        "\r\n",
        "        for i, (seq, attn_masks, labels) in enumerate(train_loader):\r\n",
        "\r\n",
        "            # Clear gradients\r\n",
        "            optimizer.zero_grad()  \r\n",
        "\r\n",
        "            # Moving tensors to device\r\n",
        "            seq, attn_masks, labels = seq.to(device), attn_masks.to(device), labels.to(device)\r\n",
        "\r\n",
        "            # Obtaining the logits from the model\r\n",
        "            logits = net(seq,attn_masks)\r\n",
        "\r\n",
        "            # Calculating the loss\r\n",
        "            loss = criterion(logits.squeeze(-1), labels.float())\r\n",
        "\r\n",
        "            # Backpropagating the gradients\r\n",
        "            loss.backward()\r\n",
        "\r\n",
        "            # Clipping gradients to tackle exploding gradients\r\n",
        "            nn.utils.clip_grad_norm_(net.parameters(), 1)\r\n",
        "\r\n",
        "            # Optimization step\r\n",
        "            optimizer.step()\r\n",
        "\r\n",
        "            if (i + 1) % print_every == 0:\r\n",
        "                print(\"Iteration {} ==== Loss: {}\".format(i+1, loss.item()))\r\n",
        "\r\n",
        "        t2 = time()\r\n",
        "        print('Time Taken for Epoch: {}'.format(t2-t1))\r\n",
        "        print('\\n========== Validating ==========')\r\n",
        "        mean_val_loss, mean_val_acc = evaluate(net, criterion, val_loader, device)\r\n",
        "        print(\"Validation Loss: {}\\nValidation Accuracy: {}\".format(mean_val_loss, mean_val_acc))\r\n"
      ],
      "outputs": [],
      "metadata": {
        "id": "j-95E-ZVVNHl",
        "colab_type": "code",
        "colab": {}
      }
    },
    {
      "cell_type": "code",
      "execution_count": 22,
      "source": [
        "%%time\r\n",
        "# starting training\r\n",
        "train(model, criterion, optimizer, train_loader, val_loader, device, epochs=1, print_every=100)"
      ],
      "outputs": [
        {
          "output_type": "stream",
          "name": "stdout",
          "text": [
            "========== ========== STARTING TRAINING ========== ==========\n",
            "\n",
            "\n",
            "========== EPOCH 0 ==========\n",
            "Iteration 100 ==== Loss: 0.050789203494787216\n",
            "Iteration 200 ==== Loss: 0.19313561916351318\n",
            "Iteration 300 ==== Loss: 0.04948469623923302\n",
            "Iteration 400 ==== Loss: 0.004036957398056984\n",
            "Iteration 500 ==== Loss: 0.05896902456879616\n",
            "Iteration 600 ==== Loss: 0.21616777777671814\n",
            "Iteration 700 ==== Loss: 0.03353407233953476\n",
            "Time Taken for Epoch: 332.3311336040497\n",
            "\n",
            "========== Validating ==========\n",
            "Validation Loss: 0.7222584533603991\n",
            "Validation Accuracy: 0.8335597515106201\n",
            "CPU times: user 3min 45s, sys: 2min 10s, total: 5min 56s\n",
            "Wall time: 7min 30s\n"
          ]
        }
      ],
      "metadata": {
        "id": "OWAQPhpoVd2L",
        "colab_type": "code",
        "outputId": "1e19d0f4-921c-4950-f9e7-1ef09ad29432",
        "colab": {
          "base_uri": "https://localhost:8080/",
          "height": 319
        }
      }
    },
    {
      "cell_type": "code",
      "execution_count": null,
      "source": [
        "# Saving our model\r\n",
        "torch.save({\r\n",
        "    'model_state_dict': model.state_dict(),\r\n",
        "    'optimizer_state_dict': optimizer.state_dict()\r\n",
        "}, 'model.pth')"
      ],
      "outputs": [],
      "metadata": {
        "id": "7GO7grF5FkWo",
        "colab_type": "code",
        "colab": {}
      }
    },
    {
      "cell_type": "code",
      "execution_count": null,
      "source": [
        "# Loading the checkpoints for resuming training\r\n",
        "checkpoint = torch.load('model.pth')\r\n",
        "model.load_state_dict(checkpoint['model_state_dict'])"
      ],
      "outputs": [
        {
          "output_type": "execute_result",
          "data": {
            "text/plain": [
              "<All keys matched successfully>"
            ]
          },
          "metadata": {
            "tags": []
          },
          "execution_count": 22
        }
      ],
      "metadata": {
        "id": "4a2mZPKkSYjO",
        "colab_type": "code",
        "outputId": "812b8199-6f0c-4bcb-96be-afa449116725",
        "colab": {
          "base_uri": "https://localhost:8080/",
          "height": 34
        }
      }
    },
    {
      "cell_type": "markdown",
      "source": [
        "## Prediction"
      ],
      "metadata": {
        "id": "TIX3h8DATQwD",
        "colab_type": "text"
      }
    },
    {
      "cell_type": "code",
      "execution_count": 71,
      "source": [
        "# predictor\r\n",
        "inference_file = torch.load('model.pth')\r\n",
        "predictor = SentimentClassifier()\r\n",
        "predictor.load_state_dict(inference_file['model_state_dict'])"
      ],
      "outputs": [
        {
          "output_type": "execute_result",
          "data": {
            "text/plain": [
              "<All keys matched successfully>"
            ]
          },
          "metadata": {
            "tags": []
          },
          "execution_count": 71
        }
      ],
      "metadata": {
        "id": "-FnY36M9pYjx",
        "colab_type": "code",
        "colab": {
          "base_uri": "https://localhost:8080/",
          "height": 34
        },
        "outputId": "ba8af435-7e6e-4bde-c1a3-f65187987b6d"
      }
    },
    {
      "cell_type": "code",
      "execution_count": null,
      "source": [
        "def preprocess(sentence, maxlen=64):\r\n",
        "\r\n",
        "    tokenizer = BertTokenizer.from_pretrained('bert-base-uncased')\r\n",
        "\r\n",
        "    # Tokenize the sentence\r\n",
        "    tokens = tokenizer.tokenize(sentence)\r\n",
        "\r\n",
        "    # Inserting the CLS and SEP token at the beginning and end of the sentence\r\n",
        "    tokens = ['[CLS]'] + tokens + ['[SEP]']\r\n",
        "    \r\n",
        "    # Padding/truncating the sentences to the maximum length\r\n",
        "    if len(tokens) < maxlen:\r\n",
        "        tokens = tokens + ['[PAD]' for _ in range(maxlen - len(tokens))]\r\n",
        "    else:\r\n",
        "        tokens = tokens[:maxlen-1] + ['[SEP]']\r\n",
        "    \r\n",
        "    # Convert the sequence to ids with BERT Vocabulary\r\n",
        "    tokens_ids = tokenizer.convert_tokens_to_ids(tokens)\r\n",
        "    \r\n",
        "    # Converting the list to a pytorch tensor\r\n",
        "    tokens_ids_tensor = torch.tensor(tokens_ids).unsqueeze(0)\r\n",
        "\r\n",
        "    # Obtaining the attention mask\r\n",
        "    attn_mask = (tokens_ids_tensor != 0).long()\r\n",
        "\r\n",
        "    return tokens_ids_tensor, attn_mask"
      ],
      "outputs": [],
      "metadata": {
        "id": "yfWlpu8Tmgqk",
        "colab_type": "code",
        "colab": {}
      }
    },
    {
      "cell_type": "code",
      "execution_count": null,
      "source": [
        "# Defining an evaluation function for training \r\n",
        "def predict(net, iseq, masks):\r\n",
        "    device = 'cpu'\r\n",
        "    # Setting model to evaluation mode\r\n",
        "    net.eval()\r\n",
        "\r\n",
        "    # Move inputs and targets to device\r\n",
        "    iseq, masks = iseq.to(device), masks.to(device)\r\n",
        "\r\n",
        "    # Get logit predictions\r\n",
        "    p_logit = net(iseq, masks)\r\n",
        "\r\n",
        "    probs = torch.sigmoid(p_logit.unsqueeze(-1))\r\n",
        "    preds = (probs > 0.5).long().squeeze(0)\r\n",
        "\r\n",
        "   \r\n",
        "    return preds, probs"
      ],
      "outputs": [],
      "metadata": {
        "id": "ZCRRcFPfMY1g",
        "colab_type": "code",
        "colab": {}
      }
    },
    {
      "cell_type": "code",
      "execution_count": null,
      "source": [
        "test_tokens, test_attn = preprocess('i really loved this movie a lot')"
      ],
      "outputs": [],
      "metadata": {
        "id": "wFuaq52hptQx",
        "colab_type": "code",
        "colab": {}
      }
    },
    {
      "cell_type": "code",
      "execution_count": 75,
      "source": [
        "pred, probability = predict(predictor, test_tokens, test_attn)\r\n",
        "print(pred, probability)"
      ],
      "outputs": [
        {
          "output_type": "stream",
          "name": "stdout",
          "text": [
            "tensor([[1]]) tensor([[[0.9984]]], grad_fn=<SigmoidBackward>)\n"
          ]
        }
      ],
      "metadata": {
        "id": "KetyiqqJqi9q",
        "colab_type": "code",
        "outputId": "149c77c1-7eff-467a-a479-2d6d7ac575c3",
        "colab": {
          "base_uri": "https://localhost:8080/",
          "height": 34
        }
      }
    },
    {
      "cell_type": "code",
      "execution_count": null,
      "source": [],
      "outputs": [],
      "metadata": {
        "id": "gy6dVfPhKz0M",
        "colab_type": "code",
        "colab": {}
      }
    }
  ]
}